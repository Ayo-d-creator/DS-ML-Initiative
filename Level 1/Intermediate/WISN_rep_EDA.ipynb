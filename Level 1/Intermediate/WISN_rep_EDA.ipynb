{
  "nbformat": 4,
  "nbformat_minor": 0,
  "metadata": {
    "colab": {
      "name": "WISN_rep_EDA.ipynb",
      "provenance": []
    },
    "kernelspec": {
      "name": "python3",
      "display_name": "Python 3"
    },
    "accelerator": "GPU"
  },
  "cells": [
    {
      "cell_type": "markdown",
      "metadata": {
        "id": "X9mkhrqeT6EB"
      },
      "source": [
        "**TASK:** The task is to carrry out EDA (Exploratory Data Analysis) to show the representation of Females in city-owned buildings. "
      ]
    },
    {
      "cell_type": "code",
      "metadata": {
        "id": "u7BfFRVt0qg8"
      },
      "source": [
        "import pandas as pd\r\n",
        "import seaborn as sns\r\n",
        "import numpy as np\r\n",
        "import matplotlib.pyplot as plt\r\n",
        "import os\r\n",
        "\r\n",
        "%matplotlib inline"
      ],
      "execution_count": 1,
      "outputs": []
    },
    {
      "cell_type": "code",
      "metadata": {
        "id": "59zBRJ-p1zeE"
      },
      "source": [
        "data = pd.read_csv('/content/drive/MyDrive/dataset/WomenRepresentaionInCityProperty-SanFrancisco.csv')"
      ],
      "execution_count": 2,
      "outputs": []
    },
    {
      "cell_type": "code",
      "metadata": {
        "colab": {
          "base_uri": "https://localhost:8080/",
          "height": 289
        },
        "id": "OONLJZIW1-Fi",
        "outputId": "a37d7d31-993e-4abe-c0e2-9d6cef6b52cd"
      },
      "source": [
        "data.head()"
      ],
      "execution_count": 3,
      "outputs": [
        {
          "output_type": "execute_result",
          "data": {
            "text/html": [
              "<div>\n",
              "<style scoped>\n",
              "    .dataframe tbody tr th:only-of-type {\n",
              "        vertical-align: middle;\n",
              "    }\n",
              "\n",
              "    .dataframe tbody tr th {\n",
              "        vertical-align: top;\n",
              "    }\n",
              "\n",
              "    .dataframe thead th {\n",
              "        text-align: right;\n",
              "    }\n",
              "</style>\n",
              "<table border=\"1\" class=\"dataframe\">\n",
              "  <thead>\n",
              "    <tr style=\"text-align: right;\">\n",
              "      <th></th>\n",
              "      <th>Department/Source</th>\n",
              "      <th>Name</th>\n",
              "      <th>Person</th>\n",
              "      <th>Gender</th>\n",
              "      <th>Reference</th>\n",
              "      <th>Comments</th>\n",
              "      <th>Current Police Districts</th>\n",
              "      <th>Current Supervisor Districts</th>\n",
              "      <th>Analysis Neighborhoods</th>\n",
              "      <th>Neighborhoods</th>\n",
              "      <th>SF Find Neighborhoods</th>\n",
              "    </tr>\n",
              "  </thead>\n",
              "  <tbody>\n",
              "    <tr>\n",
              "      <th>0</th>\n",
              "      <td>Administrator</td>\n",
              "      <td>MOSCONE CENTER (South)</td>\n",
              "      <td>George R. Moscone</td>\n",
              "      <td>M</td>\n",
              "      <td>City Administrator</td>\n",
              "      <td>NaN</td>\n",
              "      <td>4</td>\n",
              "      <td>10</td>\n",
              "      <td>36</td>\n",
              "      <td>21</td>\n",
              "      <td>21</td>\n",
              "    </tr>\n",
              "    <tr>\n",
              "      <th>1</th>\n",
              "      <td>Administrator</td>\n",
              "      <td>Maxine Hall Health Center</td>\n",
              "      <td>NaN</td>\n",
              "      <td>F</td>\n",
              "      <td>Public Health</td>\n",
              "      <td>NaN</td>\n",
              "      <td>4</td>\n",
              "      <td>10</td>\n",
              "      <td>36</td>\n",
              "      <td>21</td>\n",
              "      <td>21</td>\n",
              "    </tr>\n",
              "    <tr>\n",
              "      <th>2</th>\n",
              "      <td>REC AND PARKS</td>\n",
              "      <td>Moscone Recreation Center</td>\n",
              "      <td>George R. Moscone</td>\n",
              "      <td>M</td>\n",
              "      <td>NaN</td>\n",
              "      <td>park</td>\n",
              "      <td>4</td>\n",
              "      <td>10</td>\n",
              "      <td>36</td>\n",
              "      <td>21</td>\n",
              "      <td>21</td>\n",
              "    </tr>\n",
              "    <tr>\n",
              "      <th>3</th>\n",
              "      <td>REC AND PARKS</td>\n",
              "      <td>Helen Crocker Russell Library of Horticulture,...</td>\n",
              "      <td>Helen Crocker</td>\n",
              "      <td>F</td>\n",
              "      <td>NaN</td>\n",
              "      <td>facilities and other amenities</td>\n",
              "      <td>4</td>\n",
              "      <td>10</td>\n",
              "      <td>36</td>\n",
              "      <td>21</td>\n",
              "      <td>21</td>\n",
              "    </tr>\n",
              "    <tr>\n",
              "      <th>4</th>\n",
              "      <td>REC AND PARKS</td>\n",
              "      <td>Sharon Building,  Golden Gate Park</td>\n",
              "      <td>Sharon Building</td>\n",
              "      <td>M</td>\n",
              "      <td>NaN</td>\n",
              "      <td>facilities and other amenities</td>\n",
              "      <td>4</td>\n",
              "      <td>10</td>\n",
              "      <td>36</td>\n",
              "      <td>21</td>\n",
              "      <td>21</td>\n",
              "    </tr>\n",
              "  </tbody>\n",
              "</table>\n",
              "</div>"
            ],
            "text/plain": [
              "  Department/Source  ... SF Find Neighborhoods\n",
              "0     Administrator  ...                    21\n",
              "1     Administrator  ...                    21\n",
              "2     REC AND PARKS  ...                    21\n",
              "3     REC AND PARKS  ...                    21\n",
              "4     REC AND PARKS  ...                    21\n",
              "\n",
              "[5 rows x 11 columns]"
            ]
          },
          "metadata": {
            "tags": []
          },
          "execution_count": 3
        }
      ]
    },
    {
      "cell_type": "code",
      "metadata": {
        "colab": {
          "base_uri": "https://localhost:8080/"
        },
        "id": "D7WQhhZt1_M8",
        "outputId": "a5d538ec-75ef-4172-9464-48e0f904a8ab"
      },
      "source": [
        "data.info()"
      ],
      "execution_count": 4,
      "outputs": [
        {
          "output_type": "stream",
          "text": [
            "<class 'pandas.core.frame.DataFrame'>\n",
            "RangeIndex: 82 entries, 0 to 81\n",
            "Data columns (total 11 columns):\n",
            " #   Column                        Non-Null Count  Dtype \n",
            "---  ------                        --------------  ----- \n",
            " 0   Department/Source             82 non-null     object\n",
            " 1   Name                          82 non-null     object\n",
            " 2   Person                        81 non-null     object\n",
            " 3   Gender                        82 non-null     object\n",
            " 4   Reference                     54 non-null     object\n",
            " 5   Comments                      32 non-null     object\n",
            " 6   Current Police Districts      82 non-null     int64 \n",
            " 7   Current Supervisor Districts  82 non-null     int64 \n",
            " 8   Analysis Neighborhoods        82 non-null     int64 \n",
            " 9   Neighborhoods                 82 non-null     int64 \n",
            " 10  SF Find Neighborhoods         82 non-null     int64 \n",
            "dtypes: int64(5), object(6)\n",
            "memory usage: 7.2+ KB\n"
          ],
          "name": "stdout"
        }
      ]
    },
    {
      "cell_type": "code",
      "metadata": {
        "colab": {
          "base_uri": "https://localhost:8080/",
          "height": 297
        },
        "id": "JzOhb9Kq2nH8",
        "outputId": "f60f934c-0393-4a48-e01c-f5446056c5c3"
      },
      "source": [
        "data.describe()"
      ],
      "execution_count": 5,
      "outputs": [
        {
          "output_type": "execute_result",
          "data": {
            "text/html": [
              "<div>\n",
              "<style scoped>\n",
              "    .dataframe tbody tr th:only-of-type {\n",
              "        vertical-align: middle;\n",
              "    }\n",
              "\n",
              "    .dataframe tbody tr th {\n",
              "        vertical-align: top;\n",
              "    }\n",
              "\n",
              "    .dataframe thead th {\n",
              "        text-align: right;\n",
              "    }\n",
              "</style>\n",
              "<table border=\"1\" class=\"dataframe\">\n",
              "  <thead>\n",
              "    <tr style=\"text-align: right;\">\n",
              "      <th></th>\n",
              "      <th>Current Police Districts</th>\n",
              "      <th>Current Supervisor Districts</th>\n",
              "      <th>Analysis Neighborhoods</th>\n",
              "      <th>Neighborhoods</th>\n",
              "      <th>SF Find Neighborhoods</th>\n",
              "    </tr>\n",
              "  </thead>\n",
              "  <tbody>\n",
              "    <tr>\n",
              "      <th>count</th>\n",
              "      <td>82.0</td>\n",
              "      <td>82.0</td>\n",
              "      <td>82.0</td>\n",
              "      <td>82.0</td>\n",
              "      <td>82.0</td>\n",
              "    </tr>\n",
              "    <tr>\n",
              "      <th>mean</th>\n",
              "      <td>4.0</td>\n",
              "      <td>10.0</td>\n",
              "      <td>36.0</td>\n",
              "      <td>21.0</td>\n",
              "      <td>21.0</td>\n",
              "    </tr>\n",
              "    <tr>\n",
              "      <th>std</th>\n",
              "      <td>0.0</td>\n",
              "      <td>0.0</td>\n",
              "      <td>0.0</td>\n",
              "      <td>0.0</td>\n",
              "      <td>0.0</td>\n",
              "    </tr>\n",
              "    <tr>\n",
              "      <th>min</th>\n",
              "      <td>4.0</td>\n",
              "      <td>10.0</td>\n",
              "      <td>36.0</td>\n",
              "      <td>21.0</td>\n",
              "      <td>21.0</td>\n",
              "    </tr>\n",
              "    <tr>\n",
              "      <th>25%</th>\n",
              "      <td>4.0</td>\n",
              "      <td>10.0</td>\n",
              "      <td>36.0</td>\n",
              "      <td>21.0</td>\n",
              "      <td>21.0</td>\n",
              "    </tr>\n",
              "    <tr>\n",
              "      <th>50%</th>\n",
              "      <td>4.0</td>\n",
              "      <td>10.0</td>\n",
              "      <td>36.0</td>\n",
              "      <td>21.0</td>\n",
              "      <td>21.0</td>\n",
              "    </tr>\n",
              "    <tr>\n",
              "      <th>75%</th>\n",
              "      <td>4.0</td>\n",
              "      <td>10.0</td>\n",
              "      <td>36.0</td>\n",
              "      <td>21.0</td>\n",
              "      <td>21.0</td>\n",
              "    </tr>\n",
              "    <tr>\n",
              "      <th>max</th>\n",
              "      <td>4.0</td>\n",
              "      <td>10.0</td>\n",
              "      <td>36.0</td>\n",
              "      <td>21.0</td>\n",
              "      <td>21.0</td>\n",
              "    </tr>\n",
              "  </tbody>\n",
              "</table>\n",
              "</div>"
            ],
            "text/plain": [
              "       Current Police Districts  ...  SF Find Neighborhoods\n",
              "count                      82.0  ...                   82.0\n",
              "mean                        4.0  ...                   21.0\n",
              "std                         0.0  ...                    0.0\n",
              "min                         4.0  ...                   21.0\n",
              "25%                         4.0  ...                   21.0\n",
              "50%                         4.0  ...                   21.0\n",
              "75%                         4.0  ...                   21.0\n",
              "max                         4.0  ...                   21.0\n",
              "\n",
              "[8 rows x 5 columns]"
            ]
          },
          "metadata": {
            "tags": []
          },
          "execution_count": 5
        }
      ]
    },
    {
      "cell_type": "code",
      "metadata": {
        "colab": {
          "base_uri": "https://localhost:8080/"
        },
        "id": "nYeKUVf_2rMC",
        "outputId": "febb1aa1-2b82-49ec-e0cc-1bb0b6b8b5e1"
      },
      "source": [
        "data.dtypes"
      ],
      "execution_count": 6,
      "outputs": [
        {
          "output_type": "execute_result",
          "data": {
            "text/plain": [
              "Department/Source               object\n",
              "Name                            object\n",
              "Person                          object\n",
              "Gender                          object\n",
              "Reference                       object\n",
              "Comments                        object\n",
              "Current Police Districts         int64\n",
              "Current Supervisor Districts     int64\n",
              "Analysis Neighborhoods           int64\n",
              "Neighborhoods                    int64\n",
              "SF Find Neighborhoods            int64\n",
              "dtype: object"
            ]
          },
          "metadata": {
            "tags": []
          },
          "execution_count": 6
        }
      ]
    },
    {
      "cell_type": "code",
      "metadata": {
        "colab": {
          "base_uri": "https://localhost:8080/"
        },
        "id": "Z7BS4G483DTp",
        "outputId": "efe9e8fa-ba6d-4f53-edc4-23d9e25528cb"
      },
      "source": [
        "data.Gender.value_counts()"
      ],
      "execution_count": 7,
      "outputs": [
        {
          "output_type": "execute_result",
          "data": {
            "text/plain": [
              "M        53\n",
              "F        19\n",
              "F & M     8\n",
              "M & M     1\n",
              "M & F     1\n",
              "Name: Gender, dtype: int64"
            ]
          },
          "metadata": {
            "tags": []
          },
          "execution_count": 7
        }
      ]
    },
    {
      "cell_type": "markdown",
      "metadata": {
        "id": "0tCNepT4UW00"
      },
      "source": [
        "Checking out the 'Gender' column, it seems there are more than two (2) genders, so we'll streamline it down to three (3); Male, Female; and any other gender."
      ]
    },
    {
      "cell_type": "code",
      "metadata": {
        "colab": {
          "base_uri": "https://localhost:8080/"
        },
        "id": "vioiVLa23KXq",
        "outputId": "a454e42c-c719-472f-bfc1-fb8df949d611"
      },
      "source": [
        "data[data['Gender'] == 'M & M']['Name']"
      ],
      "execution_count": 8,
      "outputs": [
        {
          "output_type": "execute_result",
          "data": {
            "text/plain": [
              "58    Veterans Building - Herbst Theater\n",
              "Name: Name, dtype: object"
            ]
          },
          "metadata": {
            "tags": []
          },
          "execution_count": 8
        }
      ]
    },
    {
      "cell_type": "code",
      "metadata": {
        "colab": {
          "base_uri": "https://localhost:8080/"
        },
        "id": "9VoiCvbu4TbQ",
        "outputId": "1fb64e45-0705-4cc9-f7f4-5441065be0c1"
      },
      "source": [
        "data['Name'].head()"
      ],
      "execution_count": 9,
      "outputs": [
        {
          "output_type": "execute_result",
          "data": {
            "text/plain": [
              "0                               MOSCONE CENTER (South)\n",
              "1                            Maxine Hall Health Center\n",
              "2                            Moscone Recreation Center\n",
              "3    Helen Crocker Russell Library of Horticulture,...\n",
              "4                   Sharon Building,  Golden Gate Park\n",
              "Name: Name, dtype: object"
            ]
          },
          "metadata": {
            "tags": []
          },
          "execution_count": 9
        }
      ]
    },
    {
      "cell_type": "code",
      "metadata": {
        "id": "6eS_cKIL4dDt"
      },
      "source": [
        "data['Gender'] = np.where(data['Gender'] == 'M & M', 'M', data['Gender'])\r\n",
        "data['Gender'] = np.where(data['Gender'] == 'F & M', 'M & F', data['Gender'])"
      ],
      "execution_count": 10,
      "outputs": []
    },
    {
      "cell_type": "code",
      "metadata": {
        "colab": {
          "base_uri": "https://localhost:8080/"
        },
        "id": "-r0YkUyf6B2B",
        "outputId": "601817e0-0f8e-417e-ac41-f525c5cd6551"
      },
      "source": [
        "data['Gender'].value_counts()"
      ],
      "execution_count": 11,
      "outputs": [
        {
          "output_type": "execute_result",
          "data": {
            "text/plain": [
              "M        54\n",
              "F        19\n",
              "M & F     9\n",
              "Name: Gender, dtype: int64"
            ]
          },
          "metadata": {
            "tags": []
          },
          "execution_count": 11
        }
      ]
    },
    {
      "cell_type": "code",
      "metadata": {
        "colab": {
          "base_uri": "https://localhost:8080/",
          "height": 296
        },
        "id": "DND49q7PCymz",
        "outputId": "7ef89d64-457c-4774-8e40-d13531240477"
      },
      "source": [
        "sns.countplot(x = 'Gender', data = data)"
      ],
      "execution_count": 12,
      "outputs": [
        {
          "output_type": "execute_result",
          "data": {
            "text/plain": [
              "<matplotlib.axes._subplots.AxesSubplot at 0x7fc1322bf400>"
            ]
          },
          "metadata": {
            "tags": []
          },
          "execution_count": 12
        },
        {
          "output_type": "display_data",
          "data": {
            "image/png": "[encoded data removed]",
            "text/plain": [
              "<Figure size 432x288 with 1 Axes>"
            ]
          },
          "metadata": {
            "tags": [],
            "needs_background": "light"
          }
        }
      ]
    },
    {
      "cell_type": "markdown",
      "metadata": {
        "id": "6q7dbSVZC8Fk"
      },
      "source": [
        "As visualized, the proportion of males to females is significatly huge. But let us explore exactly which gender predominate which department."
      ]
    },
    {
      "cell_type": "markdown",
      "metadata": {
        "id": "GAV9gbVcUvr4"
      },
      "source": [
        "#Further Data Exploration\r\n",
        "Checking out the rest of the data to see how each column affects our target."
      ]
    },
    {
      "cell_type": "code",
      "metadata": {
        "colab": {
          "base_uri": "https://localhost:8080/"
        },
        "id": "6allch5i7Flq",
        "outputId": "067c367a-a94a-4d60-fd40-8453be2799ee"
      },
      "source": [
        "data.columns"
      ],
      "execution_count": 13,
      "outputs": [
        {
          "output_type": "execute_result",
          "data": {
            "text/plain": [
              "Index(['Department/Source', 'Name', 'Person', 'Gender', 'Reference',\n",
              "       'Comments', 'Current Police Districts', 'Current Supervisor Districts',\n",
              "       'Analysis Neighborhoods', 'Neighborhoods', 'SF Find Neighborhoods'],\n",
              "      dtype='object')"
            ]
          },
          "metadata": {
            "tags": []
          },
          "execution_count": 13
        }
      ]
    },
    {
      "cell_type": "code",
      "metadata": {
        "colab": {
          "base_uri": "https://localhost:8080/"
        },
        "id": "Dj3sQwa08Y98",
        "outputId": "b9af37eb-80b3-489b-8fc2-b740e551637b"
      },
      "source": [
        "data['Neighborhoods'].value_counts()"
      ],
      "execution_count": 14,
      "outputs": [
        {
          "output_type": "execute_result",
          "data": {
            "text/plain": [
              "21    82\n",
              "Name: Neighborhoods, dtype: int64"
            ]
          },
          "metadata": {
            "tags": []
          },
          "execution_count": 14
        }
      ]
    },
    {
      "cell_type": "code",
      "metadata": {
        "colab": {
          "base_uri": "https://localhost:8080/"
        },
        "id": "EtXigft69HVJ",
        "outputId": "c6d1dac5-2438-4343-834c-98aa4b3bb41b"
      },
      "source": [
        "data['SF Find Neighborhoods'].value_counts()"
      ],
      "execution_count": 15,
      "outputs": [
        {
          "output_type": "execute_result",
          "data": {
            "text/plain": [
              "21    82\n",
              "Name: SF Find Neighborhoods, dtype: int64"
            ]
          },
          "metadata": {
            "tags": []
          },
          "execution_count": 15
        }
      ]
    },
    {
      "cell_type": "code",
      "metadata": {
        "id": "acND6yYW9OKT"
      },
      "source": [
        "data.drop('SF Find Neighborhoods', axis = 1, inplace = True)"
      ],
      "execution_count": 16,
      "outputs": []
    },
    {
      "cell_type": "code",
      "metadata": {
        "colab": {
          "base_uri": "https://localhost:8080/"
        },
        "id": "ZE5lNt-v9Xui",
        "outputId": "a4b8601d-e3fb-4ee5-ffbf-2cac730c619d"
      },
      "source": [
        "data['Analysis Neighborhoods'].value_counts()"
      ],
      "execution_count": 17,
      "outputs": [
        {
          "output_type": "execute_result",
          "data": {
            "text/plain": [
              "36    82\n",
              "Name: Analysis Neighborhoods, dtype: int64"
            ]
          },
          "metadata": {
            "tags": []
          },
          "execution_count": 17
        }
      ]
    },
    {
      "cell_type": "code",
      "metadata": {
        "colab": {
          "base_uri": "https://localhost:8080/"
        },
        "id": "PzBjd_RO9meJ",
        "outputId": "50bfd237-8aa4-4638-cc11-871fd7e19e5c"
      },
      "source": [
        "data['Current Supervisor Districts'].value_counts()"
      ],
      "execution_count": 18,
      "outputs": [
        {
          "output_type": "execute_result",
          "data": {
            "text/plain": [
              "10    82\n",
              "Name: Current Supervisor Districts, dtype: int64"
            ]
          },
          "metadata": {
            "tags": []
          },
          "execution_count": 18
        }
      ]
    },
    {
      "cell_type": "code",
      "metadata": {
        "colab": {
          "base_uri": "https://localhost:8080/"
        },
        "id": "jUxJ3EZd9uzI",
        "outputId": "3a5a835d-f6d4-4012-a642-be2d41cae3f8"
      },
      "source": [
        "data['Current Police Districts'].value_counts()"
      ],
      "execution_count": 19,
      "outputs": [
        {
          "output_type": "execute_result",
          "data": {
            "text/plain": [
              "4    82\n",
              "Name: Current Police Districts, dtype: int64"
            ]
          },
          "metadata": {
            "tags": []
          },
          "execution_count": 19
        }
      ]
    },
    {
      "cell_type": "markdown",
      "metadata": {
        "id": "rBUY9jyvVEq5"
      },
      "source": [
        "The columns; Current Police Districts,  Current Supervisor Districts, Analysis Neighborhoods, SF Find Neighborhoods, and Neighborhoods do not have any effect, neither do they give information because, although not missing any value, do not contain substantial information. "
      ]
    },
    {
      "cell_type": "code",
      "metadata": {
        "colab": {
          "base_uri": "https://localhost:8080/"
        },
        "id": "gGkZuk-r9zjU",
        "outputId": "24349ab9-1bdd-4bf7-8e1c-e2d29dba5bab"
      },
      "source": [
        "data.isnull().sum()"
      ],
      "execution_count": 20,
      "outputs": [
        {
          "output_type": "execute_result",
          "data": {
            "text/plain": [
              "Department/Source                0\n",
              "Name                             0\n",
              "Person                           1\n",
              "Gender                           0\n",
              "Reference                       28\n",
              "Comments                        50\n",
              "Current Police Districts         0\n",
              "Current Supervisor Districts     0\n",
              "Analysis Neighborhoods           0\n",
              "Neighborhoods                    0\n",
              "dtype: int64"
            ]
          },
          "metadata": {
            "tags": []
          },
          "execution_count": 20
        }
      ]
    },
    {
      "cell_type": "code",
      "metadata": {
        "colab": {
          "base_uri": "https://localhost:8080/"
        },
        "id": "WLPTXMYn-B9_",
        "outputId": "39a78bc7-0465-4cc8-a9a1-d5aa6afa1f1b"
      },
      "source": [
        "data['Reference'].value_counts()"
      ],
      "execution_count": 21,
      "outputs": [
        {
          "output_type": "execute_result",
          "data": {
            "text/plain": [
              "Municipal Transportation Agency                                                      9\n",
              "City Administrator                                                                   8\n",
              "Veterans Building                                                                    5\n",
              "Public Utilities Commission                                                          4\n",
              "Public Health                                                                        4\n",
              "Airport (Sfo)                                                                        3\n",
              "Davies Symphony Hall                                                                 3\n",
              "War Memorial Opera House                                                             2\n",
              "Port                                                                                 2\n",
              "Public Works                                                                         2\n",
              "Public Library                                                                       2\n",
              "General Manager of San Francisco's Municipal Railway in its most difficult period    1\n",
              "Arts Commission                                                                      1\n",
              "Newspaper                                                                            1\n",
              "Fire Department                                                                      1\n",
              "Longtime Deputy City Attorney                                                        1\n",
              "Harding Golf Course                                                                  1\n",
              "Clerk to the Board of Supervisors                                                    1\n",
              "Airport Commission President                                                         1\n",
              "Fine Arts Museums                                                                    1\n",
              "Zellerbach Rehearsal Hall                                                            1\n",
              "Name: Reference, dtype: int64"
            ]
          },
          "metadata": {
            "tags": []
          },
          "execution_count": 21
        }
      ]
    },
    {
      "cell_type": "code",
      "metadata": {
        "colab": {
          "base_uri": "https://localhost:8080/",
          "height": 907
        },
        "id": "VtzTXKNs-QN5",
        "outputId": "75c8c1f1-6bd6-4b05-e08c-e0eff26ae730"
      },
      "source": [
        "plt.figure(figsize=(8,8))\r\n",
        "plt.xticks(rotation = 90)\r\n",
        "sns.countplot(x = 'Reference', data = data, hue = 'Gender')"
      ],
      "execution_count": 22,
      "outputs": [
        {
          "output_type": "execute_result",
          "data": {
            "text/plain": [
              "<matplotlib.axes._subplots.AxesSubplot at 0x7fc132261cf8>"
            ]
          },
          "metadata": {
            "tags": []
          },
          "execution_count": 22
        },
        {
          "output_type": "display_data",
          "data": {
            "image/png": "[encoded data removed]",
            "text/plain": [
              "<Figure size 576x576 with 1 Axes>"
            ]
          },
          "metadata": {
            "tags": [],
            "needs_background": "light"
          }
        }
      ]
    },
    {
      "cell_type": "code",
      "metadata": {
        "colab": {
          "base_uri": "https://localhost:8080/",
          "height": 567
        },
        "id": "lMxMLDYq_lSn",
        "outputId": "a5177029-de86-49ae-87cb-4ee241359a09"
      },
      "source": [
        "plt.figure(figsize=(8,8))\r\n",
        "plt.xticks(rotation = 90)\r\n",
        "sns.countplot(x = 'Department/Source', data = data, hue = 'Gender')"
      ],
      "execution_count": 23,
      "outputs": [
        {
          "output_type": "display_data",
          "data": {
            "image/png": "[encoded data removed]",
            "text/plain": [
              "<Figure size 576x576 with 1 Axes>"
            ]
          },
          "metadata": {
            "tags": [],
            "needs_background": "light"
          }
        }
      ]
    },
    {
      "cell_type": "markdown",
      "metadata": {
        "id": "dG2-tWCZ-4WK"
      },
      "source": [
        "From this representation, we can see **administrators** are mostly **male**. In **REC and Parks, RED, Public health,** the number of **Females** are 50%. And we see **ties** between them in departments such as the **Port**. \r\n",
        "\r\n",
        "By reference (The first plot), we can also see **ties** in the **Public works, Verteran Buildings and Public Libraries**."
      ]
    },
    {
      "cell_type": "markdown",
      "metadata": {
        "id": "R0f1JXuoV-nI"
      },
      "source": [
        "#**Conclusion**\r\n",
        "\r\n",
        "By reference as well, we can see **Females** are solely represented in the Arts commission department. But we se how **Males** preponderate over Females evidently shown in the number of sole representation for males. \r\n",
        "\r\n",
        "\r\n",
        "We can safely say there are some departments where **males** majorly are in, like the General Manager roles, Administrators, Clerks,  Deputy City Attorneys, Airport workers, Fire Departments, golf course and Museums. Females aren't represented in such departments."
      ]
    },
    {
      "cell_type": "code",
      "metadata": {
        "id": "emZHRKbd-zql"
      },
      "source": [
        ""
      ],
      "execution_count": null,
      "outputs": []
    }
  ]
}